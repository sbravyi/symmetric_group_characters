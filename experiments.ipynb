{
 "cells": [
  {
   "cell_type": "markdown",
   "metadata": {},
   "source": [
    "# Experiments\n",
    "\n",
    "Run this with SageMath kernel. You can install it from [here](https://www.sagemath.org).\n",
    "\n",
    "\n",
    "\n",
    "## Install Requirements\n",
    "SageMath kernel may not see your virtual environment. \n",
    "You can install the minimum requirements for executing the timing experiments by executing the following code: "
   ]
  },
  {
   "cell_type": "code",
   "execution_count": 2,
   "metadata": {},
   "outputs": [
    {
     "name": "stdout",
     "output_type": "stream",
     "text": [
      "\n",
      "\u001b[1m[\u001b[0m\u001b[34;49mnotice\u001b[0m\u001b[1;39;49m]\u001b[0m\u001b[39;49m A new release of pip is available: \u001b[0m\u001b[31;49m23.3.1\u001b[0m\u001b[39;49m -> \u001b[0m\u001b[32;49m24.3.1\u001b[0m\n",
      "\u001b[1m[\u001b[0m\u001b[34;49mnotice\u001b[0m\u001b[1;39;49m]\u001b[0m\u001b[39;49m To update, run: \u001b[0m\u001b[32;49mpip install --upgrade pip\u001b[0m\n",
      "Note: you may need to restart the kernel to use updated packages.\n"
     ]
    }
   ],
   "source": [
    "%pip install -q -r requirements.txt"
   ]
  },
  {
   "cell_type": "markdown",
   "metadata": {},
   "source": [
    "## Characters:"
   ]
  },
  {
   "cell_type": "markdown",
   "metadata": {},
   "source": [
    "### MPS Timing Experiments:\n",
    "\n",
    "Runs the MPS character timing. This generates data to reproduce Fig. 1 in the manuscript.\n",
    "\n",
    "The character computation timing experiments take about 16 minutes on M1 Mac with 64GB memory. "
   ]
  },
  {
   "cell_type": "code",
   "execution_count": 3,
   "metadata": {},
   "outputs": [
    {
     "name": "stdout",
     "output_type": "stream",
     "text": [
      "n= 4\n",
      "Number of partitions= 5\n",
      "Mu= [2, 2]\n",
      "Maximum MPS bond dimension = 5\n",
      "MPS runtime (part 1)= 0.00\n",
      "MPS runtime (part 2)= 0.00\n",
      "###################################\n",
      "n= 6\n",
      "Number of partitions= 11\n",
      "Mu= [2, 2, 2]\n",
      "Maximum MPS bond dimension = 8\n",
      "MPS runtime (part 1)= 0.00\n",
      "MPS runtime (part 2)= 0.00\n",
      "###################################\n",
      "n= 8\n",
      "Number of partitions= 22\n",
      "Mu= [2, 2, 2, 2]\n",
      "Maximum MPS bond dimension = 14\n",
      "MPS runtime (part 1)= 0.00\n",
      "MPS runtime (part 2)= 0.00\n",
      "###################################\n",
      "n= 10\n",
      "Number of partitions= 42\n",
      "Mu= [2, 2, 2, 2, 2]\n",
      "Maximum MPS bond dimension = 22\n",
      "MPS runtime (part 1)= 0.01\n",
      "MPS runtime (part 2)= 0.00\n",
      "###################################\n",
      "n= 12\n",
      "Number of partitions= 77\n",
      "Mu= [2, 2, 2, 2, 2, 2]\n",
      "Maximum MPS bond dimension = 31\n",
      "MPS runtime (part 1)= 0.01\n",
      "MPS runtime (part 2)= 0.00\n",
      "###################################\n",
      "n= 14\n",
      "Number of partitions= 135\n",
      "Mu= [2, 2, 2, 2, 2, 2, 2]\n",
      "Maximum MPS bond dimension = 42\n",
      "MPS runtime (part 1)= 0.02\n",
      "MPS runtime (part 2)= 0.01\n",
      "###################################\n",
      "n= 16\n",
      "Number of partitions= 231\n",
      "Mu= [2, 2, 2, 2, 2, 2, 2, 2]\n",
      "Maximum MPS bond dimension = 57\n",
      "MPS runtime (part 1)= 0.03\n",
      "MPS runtime (part 2)= 0.01\n",
      "###################################\n",
      "n= 18\n",
      "Number of partitions= 385\n",
      "Mu= [2, 2, 2, 2, 2, 2, 2, 2, 2]\n",
      "Maximum MPS bond dimension = 78\n",
      "MPS runtime (part 1)= 0.06\n",
      "MPS runtime (part 2)= 0.03\n",
      "###################################\n",
      "n= 20\n",
      "Number of partitions= 627\n",
      "Mu= [2, 2, 2, 2, 2, 2, 2, 2, 2, 2]\n",
      "Maximum MPS bond dimension = 103\n",
      "MPS runtime (part 1)= 0.11\n",
      "MPS runtime (part 2)= 0.05\n",
      "###################################\n",
      "n= 22\n",
      "Number of partitions= 1002\n",
      "Mu= [2, 2, 2, 2, 2, 2, 2, 2, 2, 2, 2]\n",
      "Maximum MPS bond dimension = 132\n",
      "MPS runtime (part 1)= 0.19\n",
      "MPS runtime (part 2)= 0.09\n",
      "###################################\n",
      "n= 24\n",
      "Number of partitions= 1575\n",
      "Mu= [2, 2, 2, 2, 2, 2, 2, 2, 2, 2, 2, 2]\n",
      "Maximum MPS bond dimension = 169\n",
      "MPS runtime (part 1)= 0.35\n",
      "MPS runtime (part 2)= 0.17\n",
      "###################################\n",
      "n= 26\n",
      "Number of partitions= 2436\n",
      "Mu= [2, 2, 2, 2, 2, 2, 2, 2, 2, 2, 2, 2, 2]\n",
      "Maximum MPS bond dimension = 216\n",
      "MPS runtime (part 1)= 0.71\n",
      "MPS runtime (part 2)= 0.32\n",
      "###################################\n",
      "n= 28\n",
      "Number of partitions= 3718\n",
      "Mu= [2, 2, 2, 2, 2, 2, 2, 2, 2, 2, 2, 2, 2, 2]\n",
      "Maximum MPS bond dimension = 271\n",
      "MPS runtime (part 1)= 1.17\n",
      "MPS runtime (part 2)= 0.53\n",
      "###################################\n",
      "n= 30\n",
      "Number of partitions= 5604\n",
      "Mu= [2, 2, 2, 2, 2, 2, 2, 2, 2, 2, 2, 2, 2, 2, 2]\n",
      "Maximum MPS bond dimension = 336\n",
      "MPS runtime (part 1)= 1.86\n",
      "MPS runtime (part 2)= 1.06\n",
      "###################################\n",
      "Done\n",
      "file_name= ./DATA/mps_data.dat\n"
     ]
    }
   ],
   "source": [
    "%run ./timing/timing_mps.py"
   ]
  },
  {
   "cell_type": "markdown",
   "metadata": {},
   "source": [
    "### SAGE and GAP timing experiments: \n",
    "\n",
    "Note that Sage also executes the GAP code in timing_gap.g. "
   ]
  },
  {
   "cell_type": "code",
   "execution_count": null,
   "metadata": {},
   "outputs": [],
   "source": [
    "%run ./timing/timing_sage.py"
   ]
  },
  {
   "cell_type": "markdown",
   "metadata": {},
   "source": [
    "### Runtime Plot"
   ]
  },
  {
   "cell_type": "code",
   "execution_count": null,
   "metadata": {},
   "outputs": [],
   "source": [
    "%run ./plotting/make_plot.py"
   ]
  },
  {
   "cell_type": "markdown",
   "metadata": {},
   "source": [
    "### Dimension Plot"
   ]
  },
  {
   "cell_type": "code",
   "execution_count": null,
   "metadata": {},
   "outputs": [],
   "source": [
    "%run ./plotting/make_plot_dim.py"
   ]
  },
  {
   "cell_type": "markdown",
   "metadata": {},
   "source": [
    "## Kostka Numbers\n",
    "\n",
    "### Kostka Timing Experiment\n",
    "\n",
    "Kostka number MPS algorithm timing experiment. Note: this takes about an hour on a M1 Mac with 64GB RAM."
   ]
  },
  {
   "cell_type": "code",
   "execution_count": null,
   "metadata": {},
   "outputs": [],
   "source": [
    "%run ./timing/timing_kostka.py"
   ]
  },
  {
   "cell_type": "markdown",
   "metadata": {},
   "source": [
    "### Kostka Plots"
   ]
  },
  {
   "cell_type": "code",
   "execution_count": null,
   "metadata": {},
   "outputs": [],
   "source": [
    "%run ./plotting/make_plot_kostka.py"
   ]
  }
 ],
 "metadata": {
  "kernelspec": {
   "display_name": "SageMath 10.3",
   "language": "sage",
   "name": "SageMath-10.3"
  },
  "language_info": {
   "codemirror_mode": {
    "name": "ipython",
    "version": 3
   },
   "file_extension": ".py",
   "mimetype": "text/x-python",
   "name": "python",
   "nbconvert_exporter": "python",
   "pygments_lexer": "ipython3",
   "version": "3.11.8"
  }
 },
 "nbformat": 4,
 "nbformat_minor": 2
}
