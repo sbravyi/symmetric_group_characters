{
 "cells": [
  {
   "cell_type": "markdown",
   "metadata": {},
   "source": [
    "# Experiments\n",
    "\n",
    "The following notebook reproduces the data and code used in the manuscript.\n",
    "\n",
    "Run this with SageMath kernel. You can install it from [here](https://www.sagemath.org).\n",
    "\n",
    "SageMath kernel may not see your virtual environment. \n",
    "You can install the minimum requirements for executing the timing experiments by executing the following code: "
   ]
  },
  {
   "cell_type": "code",
   "execution_count": null,
   "metadata": {},
   "outputs": [],
   "source": [
    "%pip install -q -r requirements.txt"
   ]
  },
  {
   "cell_type": "markdown",
   "metadata": {},
   "source": [
    "## Characters"
   ]
  },
  {
   "cell_type": "markdown",
   "metadata": {},
   "source": [
    "### Timing\n",
    "\n",
    "#### MPS \n",
    "\n",
    "Runs the MPS character timing. This generates data to reproduce Fig. 1 in the manuscript.\n",
    "\n",
    "The character computation timing experiments take about 16 minutes on M1 Mac with 64GB memory. "
   ]
  },
  {
   "cell_type": "code",
   "execution_count": null,
   "metadata": {},
   "outputs": [],
   "source": [
    "%run ./timing/timing_mps.py"
   ]
  },
  {
   "cell_type": "markdown",
   "metadata": {},
   "source": [
    "#### SAGE and GAP\n",
    "\n",
    "Note that Sage also executes the GAP code in timing_gap.g. "
   ]
  },
  {
   "cell_type": "code",
   "execution_count": 18,
   "metadata": {},
   "outputs": [
    {
     "name": "stdout",
     "output_type": "stream",
     "text": [
      "n= 4\n",
      "Number of partitions= 5\n",
      "Mu= [2, 2]\n",
      "sage runtime= 0.00002\n",
      "###################################\n",
      "n= 6\n",
      "Number of partitions= 11\n",
      "Mu= [2, 2, 2]\n",
      "sage runtime= 0.00001\n",
      "###################################\n",
      "n= 8\n",
      "Number of partitions= 22\n",
      "Mu= [2, 2, 2, 2]\n",
      "sage runtime= 0.00002\n",
      "###################################\n",
      "n= 10\n",
      "Number of partitions= 42\n",
      "Mu= [2, 2, 2, 2, 2]\n",
      "sage runtime= 0.00006\n",
      "###################################\n",
      "n= 12\n",
      "Number of partitions= 77\n",
      "Mu= [2, 2, 2, 2, 2, 2]\n",
      "sage runtime= 0.00017\n",
      "###################################\n",
      "n= 14\n",
      "Number of partitions= 135\n",
      "Mu= [2, 2, 2, 2, 2, 2, 2]\n",
      "sage runtime= 0.00065\n",
      "###################################\n",
      "n= 16\n",
      "Number of partitions= 231\n",
      "Mu= [2, 2, 2, 2, 2, 2, 2, 2]\n",
      "sage runtime= 0.00310\n",
      "###################################\n",
      "n= 18\n",
      "Number of partitions= 385\n",
      "Mu= [2, 2, 2, 2, 2, 2, 2, 2, 2]\n",
      "sage runtime= 0.01601\n",
      "###################################\n",
      "n= 20\n",
      "Number of partitions= 627\n",
      "Mu= [2, 2, 2, 2, 2, 2, 2, 2, 2, 2]\n",
      "sage runtime= 0.08654\n",
      "###################################\n",
      "n= 22\n",
      "Number of partitions= 1002\n",
      "Mu= [2, 2, 2, 2, 2, 2, 2, 2, 2, 2, 2]\n",
      "sage runtime= 0.50593\n",
      "###################################\n",
      "n= 24\n",
      "Number of partitions= 1575\n",
      "Mu= [2, 2, 2, 2, 2, 2, 2, 2, 2, 2, 2, 2]\n"
     ]
    },
    {
     "ename": "KeyboardInterrupt",
     "evalue": "",
     "output_type": "error",
     "traceback": [
      "\u001b[0;31m---------------------------------------------------------------------------\u001b[0m",
      "\u001b[0;31mKeyboardInterrupt\u001b[0m                         Traceback (most recent call last)",
      "File \u001b[0;32m~/Documents/GitHub/symmetric_group_characters/timing/timing_sage.py:37\u001b[0m\n\u001b[1;32m     35\u001b[0m table \u001b[38;5;241m=\u001b[39m {}\n\u001b[1;32m     36\u001b[0m \u001b[38;5;28;01mfor\u001b[39;00m Lambda \u001b[38;5;129;01min\u001b[39;00m Pn:\n\u001b[0;32m---> 37\u001b[0m     table[Lambda] \u001b[38;5;241m=\u001b[39m  \u001b[38;5;28mint\u001b[39m(symmetrica\u001b[38;5;241m.\u001b[39mcharvalue(Lambda,Mu))\n\u001b[1;32m     38\u001b[0m sage_runtime \u001b[38;5;241m=\u001b[39m time\u001b[38;5;241m.\u001b[39mtime() \u001b[38;5;241m-\u001b[39m t\n\u001b[1;32m     39\u001b[0m \u001b[38;5;28mprint\u001b[39m(\u001b[38;5;124m'\u001b[39m\u001b[38;5;124msage runtime=\u001b[39m\u001b[38;5;124m'\u001b[39m,\u001b[38;5;124m\"\u001b[39m\u001b[38;5;132;01m{0:.5f}\u001b[39;00m\u001b[38;5;124m\"\u001b[39m\u001b[38;5;241m.\u001b[39mformat(sage_runtime))\n",
      "File \u001b[0;32msrc/cysignals/signals.pyx:341\u001b[0m, in \u001b[0;36mcysignals.signals.python_check_interrupt\u001b[0;34m()\u001b[0m\n",
      "\u001b[0;31mKeyboardInterrupt\u001b[0m: "
     ]
    }
   ],
   "source": [
    "%run ./timing/timing_sage.py"
   ]
  },
  {
   "cell_type": "markdown",
   "metadata": {},
   "source": [
    "### Plotting\n",
    "\n",
    "#### Runtime Comparison"
   ]
  },
  {
   "cell_type": "code",
   "execution_count": null,
   "metadata": {},
   "outputs": [],
   "source": [
    "%run ./plotting/make_plot.py"
   ]
  },
  {
   "cell_type": "markdown",
   "metadata": {},
   "source": [
    "#### Bond Dimension"
   ]
  },
  {
   "cell_type": "code",
   "execution_count": null,
   "metadata": {},
   "outputs": [],
   "source": [
    "%run ./plotting/make_plot_dim.py"
   ]
  },
  {
   "cell_type": "markdown",
   "metadata": {},
   "source": [
    "## Kostka\n",
    "\n",
    "### Timing\n",
    "\n",
    "#### MPS\n",
    "\n",
    "Kostka number MPS algorithm timing experiment. Note: this takes about an hour on a M1 Mac with 64GB RAM."
   ]
  },
  {
   "cell_type": "code",
   "execution_count": 26,
   "metadata": {},
   "outputs": [],
   "source": [
    "%run ./timing/timing_kostka.py"
   ]
  },
  {
   "cell_type": "code",
   "execution_count": 21,
   "metadata": {},
   "outputs": [
    {
     "name": "stdout",
     "output_type": "stream",
     "text": [
      "The autoreload extension is already loaded. To reload it, use:\n",
      "  %reload_ext autoreload\n"
     ]
    }
   ],
   "source": [
    "%load_ext autoreload\n",
    "%autoreload 2"
   ]
  },
  {
   "cell_type": "code",
   "execution_count": 23,
   "metadata": {},
   "outputs": [],
   "source": [
    "import champs\n",
    "\n",
    "bldr = champs.KostkaBuilder((5,5), relerr=1e-3)"
   ]
  },
  {
   "cell_type": "markdown",
   "metadata": {},
   "source": [
    "### Plotting"
   ]
  },
  {
   "cell_type": "code",
   "execution_count": null,
   "metadata": {},
   "outputs": [],
   "source": [
    "%run ./plotting/make_plot_kostka.py"
   ]
  }
 ],
 "metadata": {
  "kernelspec": {
   "display_name": "SageMath 10.3",
   "language": "sage",
   "name": "SageMath-10.3"
  },
  "language_info": {
   "codemirror_mode": {
    "name": "ipython",
    "version": 3
   },
   "file_extension": ".py",
   "mimetype": "text/x-python",
   "name": "python",
   "nbconvert_exporter": "python",
   "pygments_lexer": "ipython3",
   "version": "3.11.8"
  }
 },
 "nbformat": 4,
 "nbformat_minor": 2
}
