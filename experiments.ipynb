{
 "cells": [
  {
   "cell_type": "markdown",
   "metadata": {},
   "source": [
    "# Experiments\n",
    "\n",
    "Use this notebook to execute the numerical experiments from the paper. \n",
    "Run this with SageMath 10.3 kernel. Note that Sage also executes the GAP code in timing_gap.g. \n",
    "\n",
    "The character computation timing experiments take about 16 minutes on M1 Mac with 64GB memory. "
   ]
  },
  {
   "cell_type": "code",
   "execution_count": 21,
   "metadata": {},
   "outputs": [],
   "source": [
    "%load_ext autoreload\n",
    "%autoreload 2 \n"
   ]
  },
  {
   "cell_type": "markdown",
   "metadata": {},
   "source": [
    "## Characters:"
   ]
  },
  {
   "cell_type": "markdown",
   "metadata": {},
   "source": [
    "### MPS Timing Experiments:"
   ]
  },
  {
   "cell_type": "code",
   "execution_count": 18,
   "metadata": {},
   "outputs": [
    {
     "name": "stdout",
     "output_type": "stream",
     "text": [
      "n= 4\n",
      "Number of partitions= 5\n",
      "Mu= [2, 2]\n",
      "Maximum MPS bond dimension = 5\n",
      "MPS runtime (part 1)= 0.00\n",
      "MPS runtime (part 2)= 0.00\n",
      "###################################\n",
      "n= 6\n",
      "Number of partitions= 11\n",
      "Mu= [2, 2, 2]\n",
      "Maximum MPS bond dimension = 8\n",
      "MPS runtime (part 1)= 0.00\n",
      "MPS runtime (part 2)= 0.00\n",
      "###################################\n",
      "n= 8\n",
      "Number of partitions= 22\n",
      "Mu= [2, 2, 2, 2]\n",
      "Maximum MPS bond dimension = 14\n",
      "MPS runtime (part 1)= 0.01\n",
      "MPS runtime (part 2)= 0.00\n",
      "###################################\n",
      "n= 10\n",
      "Number of partitions= 42\n",
      "Mu= [2, 2, 2, 2, 2]\n",
      "Maximum MPS bond dimension = 22\n",
      "MPS runtime (part 1)= 0.01\n",
      "MPS runtime (part 2)= 0.00\n",
      "###################################\n",
      "n= 12\n",
      "Number of partitions= 77\n",
      "Mu= [2, 2, 2, 2, 2, 2]\n",
      "Maximum MPS bond dimension = 31\n",
      "MPS runtime (part 1)= 0.01\n",
      "MPS runtime (part 2)= 0.00\n",
      "###################################\n",
      "n= 14\n",
      "Number of partitions= 135\n",
      "Mu= [2, 2, 2, 2, 2, 2, 2]\n",
      "Maximum MPS bond dimension = 42\n",
      "MPS runtime (part 1)= 0.02\n",
      "MPS runtime (part 2)= 0.01\n",
      "###################################\n",
      "n= 16\n",
      "Number of partitions= 231\n",
      "Mu= [2, 2, 2, 2, 2, 2, 2, 2]\n",
      "Maximum MPS bond dimension = 57\n",
      "MPS runtime (part 1)= 0.04\n",
      "MPS runtime (part 2)= 0.01\n",
      "###################################\n",
      "n= 18\n",
      "Number of partitions= 385\n",
      "Mu= [2, 2, 2, 2, 2, 2, 2, 2, 2]\n",
      "Maximum MPS bond dimension = 78\n",
      "MPS runtime (part 1)= 0.07\n",
      "MPS runtime (part 2)= 0.03\n",
      "###################################\n",
      "n= 20\n",
      "Number of partitions= 627\n",
      "Mu= [2, 2, 2, 2, 2, 2, 2, 2, 2, 2]\n",
      "Maximum MPS bond dimension = 103\n",
      "MPS runtime (part 1)= 0.14\n",
      "MPS runtime (part 2)= 0.07\n",
      "###################################\n",
      "n= 22\n",
      "Number of partitions= 1002\n",
      "Mu= [2, 2, 2, 2, 2, 2, 2, 2, 2, 2, 2]\n",
      "Maximum MPS bond dimension = 132\n",
      "MPS runtime (part 1)= 0.28\n",
      "MPS runtime (part 2)= 0.09\n",
      "###################################\n",
      "n= 24\n",
      "Number of partitions= 1575\n",
      "Mu= [2, 2, 2, 2, 2, 2, 2, 2, 2, 2, 2, 2]\n",
      "Maximum MPS bond dimension = 169\n",
      "MPS runtime (part 1)= 0.54\n",
      "MPS runtime (part 2)= 0.17\n",
      "###################################\n",
      "n= 26\n",
      "Number of partitions= 2436\n",
      "Mu= [2, 2, 2, 2, 2, 2, 2, 2, 2, 2, 2, 2, 2]\n",
      "Maximum MPS bond dimension = 216\n",
      "MPS runtime (part 1)= 1.03\n",
      "MPS runtime (part 2)= 0.33\n",
      "###################################\n",
      "n= 28\n",
      "Number of partitions= 3718\n",
      "Mu= [2, 2, 2, 2, 2, 2, 2, 2, 2, 2, 2, 2, 2, 2]\n",
      "Maximum MPS bond dimension = 271\n",
      "MPS runtime (part 1)= 1.95\n",
      "MPS runtime (part 2)= 0.68\n",
      "###################################\n",
      "n= 30\n",
      "Number of partitions= 5604\n",
      "Mu= [2, 2, 2, 2, 2, 2, 2, 2, 2, 2, 2, 2, 2, 2, 2]\n",
      "Maximum MPS bond dimension = 336\n",
      "MPS runtime (part 1)= 3.63\n",
      "MPS runtime (part 2)= 1.24\n",
      "###################################\n",
      "Done\n",
      "file_name= ./DATA/mps_data.dat\n"
     ]
    }
   ],
   "source": [
    "%run timing_mps.py"
   ]
  },
  {
   "cell_type": "markdown",
   "metadata": {},
   "source": [
    "### SAGE and GAP timing experiments: "
   ]
  },
  {
   "cell_type": "code",
   "execution_count": null,
   "metadata": {},
   "outputs": [],
   "source": [
    "%run timing_sage.py"
   ]
  },
  {
   "cell_type": "markdown",
   "metadata": {},
   "source": [
    "### Runtime Plot"
   ]
  },
  {
   "cell_type": "code",
   "execution_count": null,
   "metadata": {},
   "outputs": [],
   "source": [
    "%run make_plot.py"
   ]
  },
  {
   "cell_type": "markdown",
   "metadata": {},
   "source": [
    "### Dimension Plot"
   ]
  },
  {
   "cell_type": "code",
   "execution_count": null,
   "metadata": {},
   "outputs": [],
   "source": [
    "%run make_plot_dim.py"
   ]
  },
  {
   "cell_type": "markdown",
   "metadata": {},
   "source": [
    "## Kostka Numbers: "
   ]
  },
  {
   "cell_type": "code",
   "execution_count": 31,
   "metadata": {},
   "outputs": [
    {
     "name": "stdout",
     "output_type": "stream",
     "text": [
      "n= 15\n",
      "Number of partitions= 176\n",
      "Weight Mu= [1, 1, 1, 1, 1, 1, 1, 1, 1, 1, 1, 1, 1, 1, 1]\n",
      "done building\n",
      "MPS runtime= 0.14\n",
      "Sage runtime= 0.01\n",
      "maximum approximation error= 69498.0\n"
     ]
    }
   ],
   "source": [
    "%run timing_kostka.py"
   ]
  },
  {
   "cell_type": "markdown",
   "metadata": {},
   "source": []
  }
 ],
 "metadata": {
  "kernelspec": {
   "display_name": "SageMath 10.3",
   "language": "sage",
   "name": "SageMath-10.3"
  },
  "language_info": {
   "codemirror_mode": {
    "name": "ipython",
    "version": 3
   },
   "file_extension": ".py",
   "mimetype": "text/x-python",
   "name": "python",
   "nbconvert_exporter": "python",
   "pygments_lexer": "ipython3",
   "version": "3.11.8"
  }
 },
 "nbformat": 4,
 "nbformat_minor": 2
}
